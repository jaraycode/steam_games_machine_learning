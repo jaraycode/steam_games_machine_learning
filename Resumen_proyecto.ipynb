{
 "cells": [
  {
   "cell_type": "markdown",
   "id": "8dd8a288",
   "metadata": {},
   "source": [
    "# Proyecto individual ML ops\n",
    "## Consideraciones iniciales\n",
    "Dentro de mi experiencia he trabajado con distintos frameworks en python, de los cuales he tomado la decisión de usar Flask, el cual me permite montar el servidor API de manera sencilla, además de agregar estructuras de datos complejos que cumplan con los requisitos solicitados."
   ]
  },
  {
   "cell_type": "markdown",
   "id": "26af569e",
   "metadata": {},
   "source": [
    "# Fase ETL\n",
    "## Extracción de datos\n",
    "Se comienza revisando los archivos que tenemos a disposición, por consiguiente importamos la función literal_eval() del módulo ast para poder verificar la información existente dentro de los archivos, pandas para poder trabajar con ellos, numpy para poder realizar operaciones sobre ellos"
   ]
  },
  {
   "cell_type": "code",
   "execution_count": 2,
   "id": "3f8548c6",
   "metadata": {},
   "outputs": [],
   "source": [
    "import pandas as pd\n",
    "import numpy as np\n",
    "from ast import literal_eval"
   ]
  },
  {
   "cell_type": "code",
   "execution_count": 4,
   "id": "df1d60f3",
   "metadata": {},
   "outputs": [],
   "source": [
    "# Los archivos tendrán nombres significativos games = steam_games.json; reviews = user_reviews.json; u_items = users_items.json\n",
    "games = pd.read_json(\"Dataset/steam_games.json\", lines = True)\n",
    "games"
   ]
  },
  {
   "cell_type": "code",
   "execution_count": null,
   "id": "1f4ae203",
   "metadata": {},
   "outputs": [],
   "source": []
  }
 ],
 "metadata": {
  "kernelspec": {
   "display_name": "Python 3 (ipykernel)",
   "language": "python",
   "name": "python3"
  },
  "language_info": {
   "codemirror_mode": {
    "name": "ipython",
    "version": 3
   },
   "file_extension": ".py",
   "mimetype": "text/x-python",
   "name": "python",
   "nbconvert_exporter": "python",
   "pygments_lexer": "ipython3",
   "version": "3.11.5"
  }
 },
 "nbformat": 4,
 "nbformat_minor": 5
}
