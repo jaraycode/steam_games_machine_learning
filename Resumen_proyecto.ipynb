{
 "cells": [
  {
   "cell_type": "markdown",
   "id": "c552c25a",
   "metadata": {},
   "source": [
    "# Proyecto individual ML ops\n",
    "## Consideraciones iniciales\n",
    "Dentro de mi experiencia he trabajado con distintos frameworks en python, de los cuales he tomado la decisión de usar Flask, el cual me permite montar el servidor API de manera sencilla, además de agregar estructuras de datos complejos que cumplan con los requisitos solicitados."
   ]
  }
 ],
 "metadata": {
  "kernelspec": {
   "display_name": "Python 3 (ipykernel)",
   "language": "python",
   "name": "python3"
  },
  "language_info": {
   "codemirror_mode": {
    "name": "ipython",
    "version": 3
   },
   "file_extension": ".py",
   "mimetype": "text/x-python",
   "name": "python",
   "nbconvert_exporter": "python",
   "pygments_lexer": "ipython3",
   "version": "3.11.4"
  }
 },
 "nbformat": 4,
 "nbformat_minor": 5
}
